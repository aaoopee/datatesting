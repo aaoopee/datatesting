{
 "cells": [
  {
   "cell_type": "code",
   "execution_count": null,
   "metadata": {},
   "outputs": [],
   "source": [
    "import pandas\n",
    "from geopy.geocoders import ArcGIS\n",
    "\n",
    "df = pandas.read_csv(\"original.csv\")\n",
    "\n",
    "nom = ArcGIS()\n",
    "nom.geocode(\"Nostinkuja 5, 90460 Oulunsalo, Finland\")\n",
    "\n",
    "df"
   ]
  },
  {
   "cell_type": "code",
   "execution_count": null,
   "metadata": {},
   "outputs": [],
   "source": [
    "df[\"Address\"]=df[\"Address\"]+\", \"+df[\"City\"] + \", \"+df[\"State\"]+ \", \"+df[\"Country\"]\n",
    "df"
   ]
  },
  {
   "cell_type": "code",
   "execution_count": null,
   "metadata": {},
   "outputs": [],
   "source": [
    "df[\"Coordinates\"]=df[\"Address\"].apply(nom.geocode)\n",
    "df.Coordinates[0]"
   ]
  }
 ],
 "metadata": {
  "kernelspec": {
   "display_name": "Python 3",
   "language": "python",
   "name": "python3"
  },
  "language_info": {
   "codemirror_mode": {
    "name": "ipython",
    "version": 3
   },
   "file_extension": ".py",
   "mimetype": "text/x-python",
   "name": "python",
   "nbconvert_exporter": "python",
   "pygments_lexer": "ipython3",
   "version": "3.7.5"
  }
 },
 "nbformat": 4,
 "nbformat_minor": 2
}
