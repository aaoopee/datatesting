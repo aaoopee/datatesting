{
 "cells": [
  {
   "cell_type": "code",
   "execution_count": 2,
   "metadata": {},
   "outputs": [],
   "source": [
    "import numpy as np\n",
    "import pandas as pd\n",
    "from matplotlib import pyplot as plt\n",
    "\n"
   ]
  },
  {
   "cell_type": "code",
   "execution_count": 6,
   "metadata": {},
   "outputs": [
    {
     "name": "stdout",
     "output_type": "stream",
     "text": [
      "(20, 10) (20,)\n"
     ]
    }
   ],
   "source": [
    "def load_housing_data(m=20, n=10):\n",
    "    df = pd.read_csv(\"helsinki_apartment_prices.csv\", index_col=0)  # Load dataframe from csv\n",
    "    \n",
    "    # Extract feature matrix and label vector from dataframe\n",
    "    X = df.iloc[:,:n].to_numpy()\n",
    "    y = df.iloc[:,-1].to_numpy().reshape(-1)\n",
    "    \n",
    "    return X, y\n",
    "    \n",
    "   \n",
    "# Load the housing data\n",
    "X, y = load_housing_data()\n",
    "print(X.shape, y.shape)"
   ]
  },
  {
   "cell_type": "code",
   "execution_count": 8,
   "metadata": {},
   "outputs": [
    {
     "data": {
      "image/png": "[encoded data removed]",
      "text/plain": [
       "<Figure size 1080x360 with 3 Axes>"
      ]
     },
     "metadata": {
      "needs_background": "light"
     },
     "output_type": "display_data"
    }
   ],
   "source": [
    "# Create a figure with 3 subplots in 1 row \n",
    "fig, ax = plt.subplots(1, 3, figsize=(15,5))\n",
    "\n",
    "# Create first subplot \n",
    "ax[0].scatter(X[:,0], y)\n",
    "ax[0].set_title('first feature $x_{1}$ vs. label $y$')\n",
    "ax[0].set_xlabel('$x_{1}$: Average number of rooms')\n",
    "ax[0].set_ylabel('$y$: Median apartment value (10000€)')\n",
    "\n",
    "# Create second subplot \n",
    "ax[1].scatter(X[:,1], y)\n",
    "ax[1].set_xlabel('$x_{2}$: Proportion of buildings built <1970')\n",
    "ax[1].set_title('second feature $x_{2}$ vs. label $y$')\n",
    "ax[1].set_ylabel('$y$: Median apartment value (10000€)')\n",
    "\n",
    "# Create second subplot \n",
    "ax[2].scatter(X[:,2], y)\n",
    "ax[2].set_xlabel('$x_{3}$: Experimental feature #1')\n",
    "ax[2].set_title('third feature $x_{3}$ vs. label $y$')\n",
    "ax[2].set_ylabel('$y$: Median apartment value (10000€)')\n",
    "\n",
    "# Display the figure containing two subplots \n",
    "plt.show()"
   ]
  },
  {
   "cell_type": "code",
   "execution_count": 14,
   "metadata": {},
   "outputs": [
    {
     "data": {
      "text/latex": [
       "$\\displaystyle \\mathbf{w}_{\\rm opt} =$"
      ],
      "text/plain": [
       "<IPython.core.display.Math object>"
      ]
     },
     "metadata": {},
     "output_type": "display_data"
    },
    {
     "name": "stdout",
     "output_type": "stream",
     "text": [
      "[[ 9.97587284]\n",
      " [-0.10507286]]\n"
     ]
    }
   ],
   "source": [
    "from sklearn.linear_model import LinearRegression\n",
    "from IPython.display import display, Math\n",
    "\n",
    "# Load housing data with two features\n",
    "X, y = load_housing_data(n=2)\n",
    "\n",
    "# Create the linear regression object\n",
    "reg = LinearRegression(fit_intercept=True) \n",
    "\n",
    "# Fit the linear regression model  \n",
    "reg.fit(X, y)\n",
    "\n",
    "# Get the optimal weight vector w of the fitted model \n",
    "w_opt = reg.coef_\n",
    "\n",
    "# Reshape the numpy array to have dimension (n,1) \n",
    "w_opt = w_opt.reshape(-1,1)\n",
    "\n",
    "# Print the optimal weight vector \n",
    "display(Math(r'$\\mathbf{w}_{\\rm opt} ='))\n",
    "print(w_opt)"
   ]
  },
  {
   "cell_type": "code",
   "execution_count": 36,
   "metadata": {},
   "outputs": [
    {
     "name": "stdout",
     "output_type": "stream",
     "text": [
      "\n",
      "The resulting mean squared error (training error) is  4.2282944519846234e-29\n"
     ]
    }
   ],
   "source": [
    "from sklearn.linear_model import LinearRegression\n",
    "from sklearn.metrics import mean_squared_error\n",
    "\n",
    "X, y = load_housing_data(n=11)\n",
    "\n",
    "# Create a linear regression model\n",
    "reg = LinearRegression(fit_intercept=True) \n",
    "\n",
    "# Train the model on the features X and label y\n",
    "reg = reg.fit(X, y)\n",
    "\n",
    "# Calculate the predicted labels of the data points in the training set\n",
    "y_pred = reg.predict(X)\n",
    "\n",
    "# Calculate the MSE of the true and predicted labels of the training set\n",
    "training_error = mean_squared_error(y, y_pred)\n",
    "\n",
    "# Print training error \n",
    "print(\"\\nThe resulting mean squared error (training error) is \", training_error)"
   ]
  },
  {
   "cell_type": "code",
   "execution_count": 52,
   "metadata": {},
   "outputs": [
    {
     "data": {
      "text/plain": [
       "array([12.0474438 ,  7.69303722,  7.65579244,  7.29116713,  7.19561001,\n",
       "        5.62766756,  5.5391522 ,  5.42878822,  5.38301569,  5.38299943])"
      ]
     },
     "execution_count": 52,
     "metadata": {},
     "output_type": "execute_result"
    }
   ],
   "source": [
    "from sklearn.linear_model import LinearRegression\n",
    "from sklearn.metrics import mean_squared_error             \n",
    "\n",
    "max_r = 10\n",
    "\n",
    "# Load the dataset using 10 features \n",
    "X, y = load_housing_data(n=10)\n",
    "\n",
    "# Vector for storing the training error of for each r\n",
    "linreg_error = np.zeros(max_r)   \n",
    "\n",
    "for i in range(1,max_r+1):\n",
    "    reg = LinearRegression(fit_intercept=True)\n",
    "    reg.fit(X[:,0:i],y)\n",
    "    y_pred = reg.predict(X[:,0:i])\n",
    "    linreg_error[i-1] = mean_squared_error(y, y_pred)\n",
    "\n",
    "linreg_error"
   ]
  },
  {
   "cell_type": "code",
   "execution_count": 51,
   "metadata": {},
   "outputs": [
    {
     "name": "stdout",
     "output_type": "stream",
     "text": [
      "Training errors (rounded to 2 decimals): \n",
      " [12.05  7.69  7.66  7.29  7.2   5.63  5.54  5.43  5.38  5.38]\n"
     ]
    },
    {
     "data": {
      "image/png": "[encoded data removed]",
      "text/plain": [
       "<Figure size 576x360 with 1 Axes>"
      ]
     },
     "metadata": {
      "needs_background": "light"
     },
     "output_type": "display_data"
    }
   ],
   "source": [
    "# Print the training errors\n",
    "print(f\"Training errors (rounded to 2 decimals): \\n {np.round(linreg_error, 2)}\")\n",
    "\n",
    "# create a numpy array \"r_values\" containing the values 1,2...,max_r \n",
    "r_values = np.linspace(1, max_r, max_r, endpoint=True)\n",
    "# create a plot object which can be accessed using variables \"fig\" and \"axes\"\n",
    "fig, axes = plt.subplots(1,1, figsize=(8, 5))\n",
    "# add a curve representing the average squared error for each choice of r \n",
    "axes.plot(r_values, linreg_error, label='MSE', color='red')\n",
    "# add captions for the horizontal and vertical axes \n",
    "axes.set_xlabel('features')\n",
    "axes.set_ylabel('empirical error')\n",
    "# add a title to the plot \n",
    "axes.set_title('Training error vs number of features')\n",
    "axes.legend()\n",
    "plt.tight_layout()\n",
    "plt.show()"
   ]
  },
  {
   "cell_type": "code",
   "execution_count": 82,
   "metadata": {},
   "outputs": [
    {
     "data": {
      "text/plain": [
       "array([0.00000000e+00, 0.00000000e+00, 1.68290326e-29, 2.12852367e-01,\n",
       "       4.29426052e-01, 2.85923088e+00, 3.00434922e+00, 7.62658789e+00,\n",
       "       6.87343000e+00, 6.72136404e+00])"
      ]
     },
     "execution_count": 82,
     "metadata": {},
     "output_type": "execute_result"
    }
   ],
   "source": [
    "# maximum number of data points\n",
    "max_m = 10     \n",
    "\n",
    "# Load the dataset using n=2 features \n",
    "X, y = load_housing_data(n=2)   \n",
    "\n",
    "# Array in which to store the training errors of the different number of data points\n",
    "train_error = np.zeros(max_m)         \n",
    "\n",
    "for i in range(1,max_m+1):\n",
    "    reg = LinearRegression(fit_intercept=True)\n",
    "    reg.fit(X[:i],y[:i])\n",
    "    y_pred = reg.predict(X[:i])\n",
    "    train_error[i-1] = mean_squared_error(y[:i], y_pred)\n",
    "\n",
    "train_error\n"
   ]
  },
  {
   "cell_type": "code",
   "execution_count": 84,
   "metadata": {},
   "outputs": [
    {
     "name": "stdout",
     "output_type": "stream",
     "text": [
      "Training Errors (Rounded to 2 decimals): \n",
      " [0.   0.   0.   0.21 0.43 2.86 3.   7.63 6.87 6.72]\n"
     ]
    },
    {
     "data": {
      "image/png": "[encoded data removed]",
      "text/plain": [
       "<Figure size 576x288 with 1 Axes>"
      ]
     },
     "metadata": {
      "needs_background": "light"
     },
     "output_type": "display_data"
    }
   ],
   "source": [
    "# Print training errors\n",
    "print(f\"Training Errors (Rounded to 2 decimals): \\n {np.round(train_error, 2)}\")\n",
    "\n",
    "# create a numpy array \"m_values\" containing the values 1,2...,max_m\n",
    "m_values = np.arange(1, max_m + 1)\n",
    "# create a plot object which can be accessed using variables \"fig\" and \"axes\"\n",
    "fig, axes = plt.subplots(nrows=1, ncols=1, figsize=(8, 4))\n",
    "# add a curve representing the average squared error for each choice of m\n",
    "axes.plot(m_values, train_error, label='MSE', color='red')\n",
    "# add captions for axes of the plot \n",
    "axes.set_xlabel('number of data points (sample size)')\n",
    "axes.set_ylabel('training error')\n",
    "# add title for the plot \n",
    "axes.set_title('Training error vs. number of data points')\n",
    "axes.legend()\n",
    "plt.tight_layout()\n",
    "# display the plot \n",
    "plt.show()"
   ]
  },
  {
   "cell_type": "code",
   "execution_count": null,
   "metadata": {},
   "outputs": [],
   "source": []
  }
 ],
 "metadata": {
  "kernelspec": {
   "display_name": "Python 3",
   "language": "python",
   "name": "python3"
  },
  "language_info": {
   "codemirror_mode": {
    "name": "ipython",
    "version": 3
   },
   "file_extension": ".py",
   "mimetype": "text/x-python",
   "name": "python",
   "nbconvert_exporter": "python",
   "pygments_lexer": "ipython3",
   "version": "3.7.5"
  }
 },
 "nbformat": 4,
 "nbformat_minor": 2
}
