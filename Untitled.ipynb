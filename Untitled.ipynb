{
 "cells": [
  {
   "cell_type": "code",
   "execution_count": 95,
   "metadata": {},
   "outputs": [],
   "source": [
    "\n",
    "import numpy as np\n",
    "import pandas as pd\n",
    "import matplotlib.pyplot as plt\n",
    "\n",
    "%matplotlib inline"
   ]
  },
  {
   "cell_type": "code",
   "execution_count": 105,
   "metadata": {
    "scrolled": true
   },
   "outputs": [
    {
     "data": {
      "text/plain": [
       "DatetimeIndex(['2019-12-17 20:48:39.633000', '2019-12-17 20:48:41.717000',\n",
       "               '2019-12-17 20:48:43.837000', '2019-12-17 20:48:45.913000',\n",
       "               '2019-12-17 20:48:47.975000', '2019-12-17 20:48:50.073000',\n",
       "               '2019-12-17 20:48:52.175000', '2019-12-17 20:48:54.259000',\n",
       "               '2019-12-17 20:48:56.324000', '2019-12-17 20:48:58.411000',\n",
       "               ...\n",
       "               '2019-12-17 22:31:16.014000', '2019-12-17 22:31:18.083000',\n",
       "               '2019-12-17 22:31:20.161000', '2019-12-17 22:31:22.230000',\n",
       "               '2019-12-17 22:31:24.307000', '2019-12-17 22:31:26.413000',\n",
       "               '2019-12-17 22:31:28.492000', '2019-12-17 22:31:30.546000',\n",
       "               '2019-12-17 22:31:32.618000', '2019-12-17 22:31:34.706000'],\n",
       "              dtype='datetime64[ns]', name='Date_Time', length=2959, freq=None)"
      ]
     },
     "execution_count": 105,
     "metadata": {},
     "output_type": "execute_result"
    }
   ],
   "source": [
    "gpu = pd.read_csv(\"gpu.csv\",encoding=\"utf_8\", parse_dates=[[\"Date\", \"Time\"]], index_col=\"Date_Time\")\n",
    "\n",
    "gpu.index"
   ]
  },
  {
   "cell_type": "code",
   "execution_count": null,
   "metadata": {},
   "outputs": [],
   "source": []
  }
 ],
 "metadata": {
  "kernelspec": {
   "display_name": "Python 3",
   "language": "python",
   "name": "python3"
  },
  "language_info": {
   "codemirror_mode": {
    "name": "ipython",
    "version": 3
   },
   "file_extension": ".py",
   "mimetype": "text/x-python",
   "name": "python",
   "nbconvert_exporter": "python",
   "pygments_lexer": "ipython3",
   "version": "3.7.5"
  }
 },
 "nbformat": 4,
 "nbformat_minor": 2
}
